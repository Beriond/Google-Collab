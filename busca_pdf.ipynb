{
 "cells": [
  {
   "cell_type": "code",
   "execution_count": null,
   "id": "c9dcc19f",
   "metadata": {},
   "outputs": [],
   "source": [
    "import os\n",
    "import shutil\n",
    "import pandas as pd\n",
    "\n",
    "# Caminho base onde estão os arquivos PDF\n",
    "base_dir = r\"Z:\\INT\\Data\\CustomerSolutions\\CS\\BR_CS\"\n",
    "\n",
    "# Pasta de destino para onde os PDFs serão copiados (sem subpastas)\n",
    "destino = r\"C:\\Users\\BR0IEPB\\Documents\\Treinamento_F-LT\\PDF\"\n",
    "\n",
    "# Carrega a planilha com os códigos dos projetos\n",
    "df = pd.read_excel(\"projetos.xlsx\")  # A planilha deve ter uma coluna chamada 'Projeto'\n",
    "\n",
    "# Garante que a pasta de destino existe\n",
    "os.makedirs(destino, exist_ok=True)\n",
    "\n",
    "for index, row in df.iterrows():\n",
    "    projeto = str(row['WBS Element'])        # Ex: '2227114'\n",
    "    pasta_mae = projeto[:5] + \"xx\"       # Ex: '22271xx'\n",
    "\n",
    "    # Monta o caminho completo onde os PDFs estão\n",
    "    pasta_projeto = os.path.join(\n",
    "        base_dir,\n",
    "        pasta_mae,\n",
    "        projeto,\n",
    "        \"A\",\n",
    "        \"1_Engineering\",\n",
    "        \"1.5_Quotation_to_customer\"\n",
    "    )\n",
    "\n",
    "    # Verifica se o diretório existe\n",
    "    if not os.path.exists(pasta_projeto):\n",
    "        print(f\"❌ Caminho não encontrado: {pasta_projeto}. Pulando projeto {projeto}.\")\n",
    "        continue\n",
    "\n",
    "    # Lista todos os arquivos PDF no diretório\n",
    "    arquivos_pdf = [f for f in os.listdir(pasta_projeto) if f.lower().endswith(\".pdf\")]\n",
    "\n",
    "    if not arquivos_pdf:\n",
    "        print(f\"⚠️ Nenhum PDF encontrado em: {pasta_projeto}. Pulando projeto {projeto}.\")\n",
    "        continue\n",
    "\n",
    "    # Copia os arquivos PDF mantendo o nome original\n",
    "    for pdf in arquivos_pdf:\n",
    "        origem_pdf = os.path.join(pasta_projeto, pdf)\n",
    "        destino_pdf = os.path.join(destino, pdf)\n",
    "\n",
    "        try:\n",
    "            shutil.copy2(origem_pdf, destino_pdf)\n",
    "            print(f\"📄 Copiado: {pdf} → {destino}\")\n",
    "        except Exception as e:\n",
    "            print(f\"❌ Erro ao copiar {pdf} do projeto {projeto}: {e}\")\n"
   ]
  }
 ],
 "metadata": {
  "kernelspec": {
   "display_name": "venv",
   "language": "python",
   "name": "python3"
  },
  "language_info": {
   "codemirror_mode": {
    "name": "ipython",
    "version": 3
   },
   "file_extension": ".py",
   "mimetype": "text/x-python",
   "name": "python",
   "nbconvert_exporter": "python",
   "pygments_lexer": "ipython3",
   "version": "3.12.1"
  }
 },
 "nbformat": 4,
 "nbformat_minor": 5
}
