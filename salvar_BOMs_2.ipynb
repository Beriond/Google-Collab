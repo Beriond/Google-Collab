{
 "cells": [
  {
   "cell_type": "markdown",
   "id": "bc9dd22a",
   "metadata": {},
   "source": [
    "Importação das Bibliotecas Necessárias"
   ]
  },
  {
   "cell_type": "code",
   "execution_count": 22,
   "id": "86406a9e",
   "metadata": {},
   "outputs": [],
   "source": [
    "import os\n",
    "import re\n",
    "import time\n",
    "import pandas as pd\n",
    "import win32com.client\n",
    "import tempfile"
   ]
  },
  {
   "cell_type": "markdown",
   "id": "3f368840",
   "metadata": {},
   "source": [
    "Função para Conectar ao SAP"
   ]
  },
  {
   "cell_type": "code",
   "execution_count": null,
   "id": "cc2aa5d6",
   "metadata": {},
   "outputs": [],
   "source": []
  },
  {
   "cell_type": "code",
   "execution_count": 23,
   "id": "6becbc19",
   "metadata": {},
   "outputs": [],
   "source": [
    "def conectar_sap(timeout=30):\n",
    "    print(\"Aguardando o SAP GUI estar disponível...\")\n",
    "    for i in range(timeout):\n",
    "        try:\n",
    "            SapGuiAuto = win32com.client.GetObject(\"SAPGUI\")\n",
    "            application = SapGuiAuto.GetScriptingEngine\n",
    "            if application.Children.Count > 0:\n",
    "                connection = application.Children(0)\n",
    "                if connection.Children.Count > 0:\n",
    "                    session = connection.Children(0)\n",
    "                    print(\"Conexão com SAP estabelecida com sucesso!\")\n",
    "                    return session\n",
    "        except Exception:\n",
    "            pass\n",
    "        time.sleep(1)\n",
    "    print(\"Erro: SAP GUI não pôde ser conectado após 30 segundos.\")\n",
    "    return None\n"
   ]
  },
  {
   "cell_type": "markdown",
   "id": "ad1df2a6",
   "metadata": {},
   "source": [
    "Função para Aguardar Elementos no SAP"
   ]
  },
  {
   "cell_type": "code",
   "execution_count": 24,
   "id": "0ef3aa17",
   "metadata": {},
   "outputs": [],
   "source": [
    "def aguardar_elemento(session, elemento_id, timeout=30):\n",
    "    for _ in range(timeout):\n",
    "        try:\n",
    "            session.findById(elemento_id)\n",
    "            return True\n",
    "        except:\n",
    "            time.sleep(1)\n",
    "    raise Exception(f\"Elemento {elemento_id} não encontrado após {timeout} segundos.\")\n"
   ]
  },
  {
   "cell_type": "markdown",
   "id": "c4bac0d5",
   "metadata": {},
   "source": [
    "Funções do Script SAP - Parte 1 (Execução)"
   ]
  },
  {
   "cell_type": "code",
   "execution_count": 25,
   "id": "521e1310",
   "metadata": {},
   "outputs": [],
   "source": [
    "def executar_script_sap1(session, projeto):\n",
    "    try:\n",
    "        print(f\"📝 Inserindo projeto: {projeto}\")\n",
    "        campo_projeto = \"wnd[0]/usr/ctxtP_PSPID\"\n",
    "        \n",
    "        if aguardar_elemento(session, campo_projeto):\n",
    "            session.findById(campo_projeto).text = projeto\n",
    "            session.findById(campo_projeto).caretPosition = len(projeto)\n",
    "        else:\n",
    "            raise Exception(f\"❌ Não foi possível encontrar o campo de projeto: {campo_projeto}\")\n",
    "\n",
    "        print(\"➡️ Executando transação...\")\n",
    "        session.findById(\"wnd[0]/tbar[1]/btn[8]\").press()\n",
    "\n",
    "        print(\"📂 Expandindo estrutura do projeto...\")\n",
    "        session.findById(\"wnd[0]/tbar[1]/btn[35]\").press()\n",
    "        \n",
    "        shell_id = \"wnd[0]/shellcont/shell\"\n",
    "\n",
    "        # Verifica se a estrutura esperada está presente\n",
    "        try:\n",
    "            shell = session.findById(shell_id)\n",
    "            shell.expandNode(\"          9\")\n",
    "            shell.selectedNode = \"         10\"\n",
    "            shell.topNode = \"          1\"\n",
    "        except Exception:\n",
    "            raise Exception(\"⚠️ Layout inesperado ou estrutura do projeto não encontrada. Pulando projeto.\")\n",
    "\n",
    "        print(\"📤 Exportando relatório...\")\n",
    "        session.findById(\"wnd[0]/tbar[1]/btn[25]\").press()  # Exportar\n",
    "        session.findById(\"wnd[0]/tbar[1]/btn[32]\").press()  # Mais opções\n",
    "        session.findById(\"wnd[0]/tbar[1]/btn[28]\").press()  # Excel\n",
    "\n",
    "    except Exception as e:\n",
    "        raise Exception(f\"❌ Erro na execução da primeira parte do script para o projeto {projeto}: {e}\")\n"
   ]
  },
  {
   "cell_type": "markdown",
   "id": "3de8630e",
   "metadata": {},
   "source": [
    "Funções do Script SAP - Parte 2 (Finalização e Limpeza)"
   ]
  },
  {
   "cell_type": "code",
   "execution_count": 26,
   "id": "df2a5277",
   "metadata": {},
   "outputs": [],
   "source": [
    "def executar_script_sap2(session, projeto):\n",
    "    try:\n",
    "        print(f\"🧹 Finalizando exportação e limpando SAP para o projeto {projeto}...\")\n",
    "\n",
    "        # Maximiza a janela novamente (caso algo tenha minimizado)\n",
    "        session.findById(\"wnd[0]\").maximize()\n",
    "\n",
    "        # Fecha a transação (botão \"Voltar\")\n",
    "        session.findById(\"wnd[0]/tbar[0]/btn[15]\").press()\n",
    "\n",
    "        # Pressiona botão de confirmação \"Sim\", se a janela aparecer\n",
    "        try:\n",
    "            session.findById(\"wnd[1]/usr/btnBUTTON_1\").press()\n",
    "        except:\n",
    "            print(\"⚠️ Nenhuma confirmação extra após exportação.\")\n",
    "\n",
    "        # Volta à tela inicial\n",
    "        try:\n",
    "            session.findById(\"wnd[0]/tbar[0]/btn[3]\").press()\n",
    "            session.findById(\"wnd[0]/usr/ctxtP_PSPID\").text = \"\"\n",
    "            session.findById(\"wnd[0]/usr/ctxtP_PSPID\").caretPosition = 0\n",
    "        except:\n",
    "            print(\"⚠️ Botão de voltar à tela inicial não encontrado.\")\n",
    "\n",
    "        print(\"✅ SAP limpo e pronto para o próximo projeto.\")\n",
    "\n",
    "    except Exception as e:\n",
    "        print(f\"❌ Erro ao finalizar o projeto {projeto}: {e}\")\n"
   ]
  },
  {
   "cell_type": "markdown",
   "id": "fd6e6927",
   "metadata": {},
   "source": [
    "Função para Limpar Nome de Arquivo"
   ]
  },
  {
   "cell_type": "code",
   "execution_count": 27,
   "id": "7ef6c681",
   "metadata": {},
   "outputs": [],
   "source": [
    "def limpar_nome_arquivo(nome):\n",
    "    return re.sub(r'[<>:\"/\\\\|?*]', '_', nome)\n"
   ]
  },
  {
   "cell_type": "markdown",
   "id": "005810fb",
   "metadata": {},
   "source": [
    "Função para Salvar o Excel como CSV"
   ]
  },
  {
   "cell_type": "code",
   "execution_count": 28,
   "id": "4cbc9314",
   "metadata": {},
   "outputs": [],
   "source": [
    "def salvar_excel_aberto_como_csv(nome_procurado, pasta_destino, nome_projeto=None):\n",
    "    excel = win32com.client.Dispatch(\"Excel.Application\")\n",
    "    arquivos_convertidos = []\n",
    "\n",
    "    for wb in excel.Workbooks:\n",
    "        if nome_procurado.lower() in wb.Name.lower():\n",
    "            try:\n",
    "                nome_base = limpar_nome_arquivo(wb.Name)\n",
    "                if nome_projeto:\n",
    "                    nome_csv = f\"{limpar_nome_arquivo(nome_projeto)}.csv\"\n",
    "                else:\n",
    "                    nome_csv = os.path.splitext(nome_base)[0] + \".csv\"\n",
    "\n",
    "                caminho_csv = os.path.join(pasta_destino, nome_csv)\n",
    "\n",
    "                if wb.Path:\n",
    "                    caminho_original = wb.FullName\n",
    "                else:\n",
    "                    temp_path = os.path.join(tempfile.gettempdir(), nome_base + \".xlsx\")\n",
    "                    wb.SaveAs(temp_path)\n",
    "                    caminho_original = temp_path\n",
    "\n",
    "                tab_tratada = pd.read_excel(caminho_original, sheet_name=wb.ActiveSheet.Name)\n",
    "                tab_tratada.to_csv(caminho_csv, index=False, encoding=\"utf-8\")\n",
    "                arquivos_convertidos.append(caminho_csv)\n",
    "\n",
    "                if not wb.Path:\n",
    "                    os.remove(caminho_original)\n",
    "\n",
    "            except Exception as e:\n",
    "                print(f\"Erro ao converter {wb.Name}: {e}\")\n",
    "\n",
    "    return arquivos_convertidos\n"
   ]
  },
  {
   "cell_type": "markdown",
   "id": "2a22a86d",
   "metadata": {},
   "source": [
    "Função para Processar os Projetos"
   ]
  },
  {
   "cell_type": "code",
   "execution_count": 29,
   "id": "5d79c7e8",
   "metadata": {},
   "outputs": [],
   "source": [
    "def processar_projetos():\n",
    "    pasta_destino = r\"C:\\Users\\BR0IEPB\\Documents\\Treinamento_F-LT\"\n",
    "    nome_arquivo_excel = \"BOM\"  # Nome esperado do Excel gerado pelo SAP\n",
    "\n",
    "    if not os.path.exists(pasta_destino):\n",
    "        os.makedirs(pasta_destino)\n",
    "\n",
    "    # Carregar lista de projetos\n",
    "    df = pd.read_excel(\"projetos_selecionados.xlsx\")\n",
    "    lista_projetos = df[\"WBS Element\"].dropna().tolist()\n",
    "\n",
    "    # Conectar ao SAP\n",
    "    session = conectar_sap()\n",
    "\n",
    "    if session:\n",
    "        for projeto in lista_projetos:\n",
    "            try:\n",
    "                print(f\"\\nExecutando projeto: {projeto}\")\n",
    "                \n",
    "                # Executar a primeira parte do script SAP\n",
    "                executar_script_sap1(session, projeto)\n",
    "\n",
    "                # Esperar o SAP concluir o processo e o Excel carregar o relatório\n",
    "                time.sleep(40)\n",
    "\n",
    "                # Salvar o relatório do Excel como CSV\n",
    "                arquivos = salvar_excel_aberto_como_csv(nome_arquivo_excel, pasta_destino, nome_projeto=projeto)\n",
    "                if arquivos:\n",
    "                    print(f\"✅ Arquivos salvos para o projeto {projeto}:\")\n",
    "                    for a in arquivos:\n",
    "                        print(f\"- {a}\")\n",
    "                else:\n",
    "                    print(f\"⚠️ Nenhum relatório encontrado para o projeto {projeto}.\")\n",
    "\n",
    "                # Executar a segunda parte do script SAP\n",
    "                executar_script_sap2(session, projeto)\n",
    "\n",
    "            except Exception as e:\n",
    "                print(f\"❌ Erro ao processar o projeto {projeto}: {e}\")\n",
    "\n",
    "        print(\"\\n✅ Processo concluído.\")\n",
    "    else:\n",
    "        print(\"❌ Não foi possível conectar ao SAP.\")\n"
   ]
  },
  {
   "cell_type": "markdown",
   "id": "f6e1fda4",
   "metadata": {},
   "source": [
    "Execução do Processamento dos Projetos"
   ]
  },
  {
   "cell_type": "code",
   "execution_count": null,
   "id": "0032e26a",
   "metadata": {},
   "outputs": [],
   "source": [
    "processar_projetos()"
   ]
  },
  {
   "cell_type": "markdown",
   "id": "bfe0baad",
   "metadata": {},
   "source": [
    "AGRUPANDO CSV'S NUM ÚNICO ARQUIVO"
   ]
  },
  {
   "cell_type": "code",
   "execution_count": 31,
   "id": "e8fd14e7",
   "metadata": {},
   "outputs": [
    {
     "name": "stdout",
     "output_type": "stream",
     "text": [
      "✅ Arquivo final criado: C:\\Users\\BR0IEPB\\Documents\\Treinamento_F-LT\\agrupado.csv\n"
     ]
    }
   ],
   "source": [
    "pasta_csvs = r\"C:\\Users\\BR0IEPB\\Documents\\Treinamento_F-LT\"\n",
    "\n",
    "# Caminho de saída\n",
    "arquivo_saida = os.path.join(pasta_csvs, \"agrupado.csv\")\n",
    "\n",
    "# Lista todos os CSVs da pasta\n",
    "csvs = [f for f in os.listdir(pasta_csvs) if f.lower().endswith(\".csv\")]\n",
    "\n",
    "# Abre o arquivo final para escrita\n",
    "with open(arquivo_saida, \"w\", encoding=\"utf-8\", newline=\"\") as f_saida:\n",
    "    for arquivo in csvs:\n",
    "        caminho = os.path.join(pasta_csvs, arquivo)\n",
    "        \n",
    "        # Escreve o nome do arquivo como uma linha separadora\n",
    "        f_saida.write(f\"\\n# ==== {arquivo} ====\\n\")\n",
    "        \n",
    "        # Lê e escreve o conteúdo do CSV\n",
    "        with open(caminho, \"r\", encoding=\"utf-8\") as f_origem:\n",
    "            for linha in f_origem:\n",
    "                f_saida.write(linha)\n",
    "\n",
    "print(f\"✅ Arquivo final criado: {arquivo_saida}\")"
   ]
  },
  {
   "cell_type": "code",
   "execution_count": null,
   "id": "9a42d1a0",
   "metadata": {},
   "outputs": [],
   "source": [
    "import pandas as pd\n",
    "import os\n",
    "\n",
    "# === CONFIGURAÇÃO ===\n",
    "# Caminho da pasta onde estão os CSVs de origem\n",
    "pasta_origem = r'C:\\Users\\BR0IEPB\\Documents\\Treinamento_F-LT\\CSV'  # <- Altere aqui\n",
    "# Caminho onde o arquivo final será salvo\n",
    "pasta_destino = r'C:\\Users\\BR0IEPB\\Documents\\Treinamento_F-LT\\CSV'  # <- Altere aqui\n",
    "# Nome do arquivo final\n",
    "nome_arquivo_saida = 'agrupado.csv'\n",
    "\n",
    "# === PROCESSAMENTO ===\n",
    "# Lista para armazenar os DataFrames\n",
    "lista_df = []\n",
    "\n",
    "# Garante que o diretório de destino exista\n",
    "os.makedirs(pasta_destino, exist_ok=True)\n",
    "\n",
    "# Percorre todos os arquivos CSV na pasta de origem\n",
    "for nome_arquivo in os.listdir(pasta_origem):\n",
    "    if nome_arquivo.endswith('.csv'):\n",
    "        caminho_arquivo = os.path.join(pasta_origem, nome_arquivo)\n",
    "        nome_base = os.path.splitext(nome_arquivo)[0]\n",
    "\n",
    "        print(f'Processando: {nome_arquivo}')\n",
    "        try:\n",
    "            df = pd.read_csv(caminho_arquivo)\n",
    "            df.insert(0, 'Projeto', nome_base)\n",
    "            lista_df.append(df)\n",
    "        except Exception as e:\n",
    "            print(f'Erro ao processar {nome_arquivo}: {e}')\n",
    "\n",
    "# Junta todos os DataFrames\n",
    "df_final = pd.concat(lista_df, ignore_index=True)\n",
    "\n",
    "# Caminho completo do arquivo de saída\n",
    "caminho_saida = os.path.join(pasta_destino, nome_arquivo_saida)\n",
    "\n",
    "# Salva o arquivo agrupado\n",
    "df_final.to_csv(caminho_saida, index=False, encoding='utf-8')\n",
    "\n",
    "print(f'\\n✅ Arquivo final salvo em: {caminho_saida}')\n"
   ]
  }
 ],
 "metadata": {
  "kernelspec": {
   "display_name": "venv",
   "language": "python",
   "name": "python3"
  },
  "language_info": {
   "codemirror_mode": {
    "name": "ipython",
    "version": 3
   },
   "file_extension": ".py",
   "mimetype": "text/x-python",
   "name": "python",
   "nbconvert_exporter": "python",
   "pygments_lexer": "ipython3",
   "version": "3.12.1"
  }
 },
 "nbformat": 4,
 "nbformat_minor": 5
}
