{
 "cells": [
  {
   "cell_type": "code",
   "execution_count": 1,
   "id": "99dfb34e",
   "metadata": {},
   "outputs": [
    {
     "name": "stdout",
     "output_type": "stream",
     "text": [
      "/opt/tljh/user/bin/python\n"
     ]
    }
   ],
   "source": [
    "import sys\n",
    "print(sys.executable)"
   ]
  },
  {
   "cell_type": "code",
   "execution_count": 2,
   "id": "d8435cae",
   "metadata": {},
   "outputs": [],
   "source": [
    "# !{sys.executable} -m pip install pandas"
   ]
  },
  {
   "cell_type": "markdown",
   "id": "6f255fe2",
   "metadata": {},
   "source": [
    "### Loading API-Keys\n",
    "The next step is to load the credentials in order to access the OpenAI API. We use `dotenv` to read the required environment variables from a `.env` file. As a fallback solution we prompt the user to type it in."
   ]
  },
  {
   "cell_type": "code",
   "execution_count": 3,
   "id": "cd622c40",
   "metadata": {},
   "outputs": [],
   "source": [
    "# This will load the environment variables from the .env file. Make sure that you have the .env file in the same directory as this notebook.\n",
    "# A template .env can be found in the file .env.template\n",
    "%load_ext dotenv\n",
    "%dotenv"
   ]
  },
  {
   "cell_type": "markdown",
   "id": "ca2c1982",
   "metadata": {},
   "source": [
    "# Initialize Azure OpenAI Service client"
   ]
  },
  {
   "cell_type": "code",
   "execution_count": 4,
   "id": "92af3e46",
   "metadata": {},
   "outputs": [],
   "source": [
    "from langchain_openai import AzureChatOpenAI\n",
    "\n",
    "model = AzureChatOpenAI(azure_deployment=\"gpt-4o-mini\")\n",
    "temperature = 0.8"
   ]
  },
  {
   "cell_type": "markdown",
   "id": "e586ed4e",
   "metadata": {},
   "source": [
    "# Initialize Azure OpenAI Embeddings client\n"
   ]
  },
  {
   "cell_type": "code",
   "execution_count": 5,
   "id": "1e21478d",
   "metadata": {},
   "outputs": [],
   "source": [
    "from langchain_openai import AzureOpenAIEmbeddings\n",
    "\n",
    "embeddings = AzureOpenAIEmbeddings(\n",
    "    azure_deployment=\"text-embedding-3-large\",\n",
    ")"
   ]
  },
  {
   "cell_type": "markdown",
   "id": "56aeff30",
   "metadata": {},
   "source": [
    "Adicionando memória"
   ]
  },
  {
   "cell_type": "code",
   "execution_count": 6,
   "id": "f50772c1",
   "metadata": {},
   "outputs": [],
   "source": [
    "from langgraph.prebuilt import create_react_agent\n",
    "from langgraph.checkpoint.memory import InMemorySaver\n",
    "\n",
    "\n",
    "# Create the agent\n",
    "memory = InMemorySaver()\n",
    "agent_executor = create_react_agent(model, tools=[], checkpointer=memory)"
   ]
  },
  {
   "cell_type": "markdown",
   "id": "30183757",
   "metadata": {},
   "source": [
    "Prompt de comando compartilhado entre PDF e CSV"
   ]
  },
  {
   "cell_type": "code",
   "execution_count": 19,
   "id": "2e16efca",
   "metadata": {},
   "outputs": [],
   "source": [
    "\n",
    "shared_prompt_template = \"\"\"\n",
    "Você é um assistente técnico especializado em engenharia. Um usuário perguntou:\n",
    "\n",
    "\"{phrase}\"\n",
    "\n",
    "Abaixo estão trechos de projetos que podem conter a resposta:\n",
    "\n",
    "{context}\n",
    "\n",
    "Seu objetivo é:\n",
    "- Localizar se algum projeto (CS, BR_CS, número ou nome) menciona componentes relacionados ao que foi perguntado.\n",
    "- Dizer diretamente qual é o número de CS ou o nome do projeto correspondente.\n",
    "- Se houver mais de um possível projeto, mencione os mais relevantes.\n",
    "- Caso mais detalhes sejam solicitidados, dê preferência a descrições técnicas dos PDF\n",
    "- Caso materiais específicos sejam citados, dê preferência a busca no CSV\n",
    "\n",
    "Não informe de onde a informação veio. Seja direto.\n",
    "Responda no idioma em que foi perguntado\n",
    "\"\"\".strip()\n",
    "\n"
   ]
  },
  {
   "cell_type": "markdown",
   "id": "a34977f4",
   "metadata": {},
   "source": [
    "Conversão do CSV em variável vetorizada"
   ]
  },
  {
   "cell_type": "code",
   "execution_count": 8,
   "id": "82243b96",
   "metadata": {},
   "outputs": [
    {
     "name": "stderr",
     "output_type": "stream",
     "text": [
      "/tmp/ipykernel_969901/2219314198.py:29: LangChainDeprecationWarning: The class `Chroma` was deprecated in LangChain 0.2.9 and will be removed in 1.0. An updated version of the class exists in the :class:`~langchain-chroma package and should be used instead. To use it run `pip install -U :class:`~langchain-chroma` and import as `from :class:`~langchain_chroma import Chroma``.\n",
      "  vector_store_csv = Chroma(\n"
     ]
    },
    {
     "name": "stdout",
     "output_type": "stream",
     "text": [
      "7119 chunks vetorizados com sucesso.\n"
     ]
    }
   ],
   "source": [
    "from langchain.text_splitter import RecursiveCharacterTextSplitter\n",
    "from langchain.vectorstores import Chroma\n",
    "from langchain_community.document_loaders import CSVLoader\n",
    "from langchain.schema import Document\n",
    "import pandas as pd\n",
    "\n",
    "# === 1. Leitura do CSV agrupado ===\n",
    "df = pd.read_csv(\"CSV_italo/agrupado.csv\", encoding=\"utf-8\")\n",
    "\n",
    "# === 2. Criação dos documentos (um por linha) ===\n",
    "documents = [\n",
    "    Document(\n",
    "        page_content=row.to_string(index=False),\n",
    "        metadata={\"Projeto\": row[\"Projeto\"] if \"Projeto\" in row else \"Desconhecido\"}\n",
    "    )\n",
    "    for _, row in df.iterrows()\n",
    "]\n",
    "\n",
    "# === 3. Divisão dos documentos em chunks menores ===\n",
    "text_splitter = RecursiveCharacterTextSplitter(\n",
    "    chunk_size=500,\n",
    "    chunk_overlap=100,\n",
    "    add_start_index=True,\n",
    ")\n",
    "\n",
    "chunks = text_splitter.split_documents(documents)\n",
    "\n",
    "# === 4. Vetorização e persistência com Chroma ===\n",
    "vector_store_csv = Chroma(\n",
    "    embedding_function=embeddings,\n",
    "    collection_name=\"agrupado_CSV\",\n",
    "    persist_directory=\"./CSV_VectorStore\"\n",
    ")\n",
    "\n",
    "document_ids = vector_store_csv.add_documents(chunks)\n",
    "\n",
    "print(f\"{len(document_ids)} chunks vetorizados com sucesso.\")\n"
   ]
  },
  {
   "cell_type": "markdown",
   "id": "bf1f9570",
   "metadata": {},
   "source": [
    "Convertendo PDF em variável vetorizada"
   ]
  },
  {
   "cell_type": "code",
   "execution_count": null,
   "id": "cec0d0da",
   "metadata": {},
   "outputs": [],
   "source": [
    "import os\n",
    "from langchain_community.document_loaders import PyPDFLoader\n",
    "from langchain.text_splitter import RecursiveCharacterTextSplitter\n",
    "from langchain.vectorstores import Chroma\n",
    "\n",
    "# Caminho da pasta onde estão os PDFs\n",
    "pdf_folder_path = \"./PDFs_Italo\"\n",
    "\n",
    "# Lista para armazenar todos os documentos dos PDFs\n",
    "all_docs = []\n",
    "\n",
    "# Itera por todos os arquivos na pasta\n",
    "for filename in os.listdir(pdf_folder_path):\n",
    "    if filename.endswith(\".pdf\"):\n",
    "        file_path = os.path.join(pdf_folder_path, filename)\n",
    "        try:\n",
    "            loader = PyPDFLoader(file_path)\n",
    "            docs = loader.load()\n",
    "            all_docs.extend(docs)\n",
    "            print(f\"✔ Arquivo carregado: {filename} ({len(docs)} páginas)\")\n",
    "        except Exception as e:\n",
    "            print(f\"⚠ Erro ao carregar '{filename}': {e}\")\n",
    "\n",
    "print(f\"\\n✅ Total de páginas carregadas: {len(all_docs)}\")\n",
    "\n",
    "# Quebra os documentos em pedaços\n",
    "text_splitter = RecursiveCharacterTextSplitter(\n",
    "    chunk_size=1000,\n",
    "    chunk_overlap=200,\n",
    "    add_start_index=True,\n",
    ")\n",
    "\n",
    "all_splits = text_splitter.split_documents(all_docs)\n",
    "\n",
    "# Criação do vetor usando Chroma\n",
    "vector_store_pdf = Chroma(\n",
    "    embedding_function=embeddings,\n",
    "    collection_name=\"projetos_PDF\",\n",
    "    persist_directory= \"./VectorStore_PDF\"\n",
    ")\n",
    "document_ids = vector_store_pdf.add_documents(all_splits)\n",
    "#document_ids = vector_store.add_documents(cut_info)\n",
    "#print(f\"{len(document_ids)} documentos vetorizados.\")\n",
    "\n",
    "results = vector_store_pdf.similarity_search(\"o que são paineis eletropneumáticos?\", k=3)  # Answer can be found on page 13.\n"
   ]
  },
  {
   "cell_type": "markdown",
   "id": "a5ac3358",
   "metadata": {},
   "source": [
    "Definindo PDF tool"
   ]
  },
  {
   "cell_type": "code",
   "execution_count": 10,
   "id": "b8006b99",
   "metadata": {},
   "outputs": [
    {
     "name": "stderr",
     "output_type": "stream",
     "text": [
      "/tmp/ipykernel_969901/1627442536.py:16: PydanticDeprecatedSince20: `pydantic.config.Extra` is deprecated, use literal values instead (e.g. `extra='allow'`). Deprecated in Pydantic V2.0 to be removed in V3.0. See Pydantic V2 Migration Guide at https://errors.pydantic.dev/2.10/migration/\n",
      "  extra = Extra.allow\n"
     ]
    }
   ],
   "source": [
    "from typing import Optional\n",
    "from langchain_core.tools import BaseTool\n",
    "from langchain_core.tools.base import ArgsSchema\n",
    "from pydantic import BaseModel, Field, Extra\n",
    "from langchain.schema import Document\n",
    "\n",
    "class GetPDFInput(BaseModel):\n",
    "    phrase: str = Field(description=\"Question to ask about PDF documents\")\n",
    "\n",
    "class GetPDFTool(BaseTool):\n",
    "    name: str = \"get_pdfs\"\n",
    "    description: str = \"Search for information in vectorized PDFs\"\n",
    "    args_schema: Optional[ArgsSchema] = GetPDFInput\n",
    "\n",
    "    class Config:\n",
    "        extra = Extra.allow\n",
    "\n",
    "    def __init__(self, vectorstore, model):\n",
    "        super().__init__()\n",
    "        self.vectorstore = vectorstore\n",
    "        self.model = model\n",
    "\n",
    "    def _run(self, phrase: Optional[str] = None) -> str:\n",
    "        retrieved_docs = self.vectorstore.similarity_search(phrase, k=3)\n",
    "        context = \"\\n\".join(doc.page_content for doc in retrieved_docs)\n",
    "\n",
    "        prompt = shared_prompt_template.format(phrase=phrase, context=context)\n",
    "        resposta = self.model.invoke(prompt)\n",
    "        return resposta.content.strip()\n",
    "\n"
   ]
  },
  {
   "cell_type": "markdown",
   "id": "23ff56f1",
   "metadata": {},
   "source": [
    "Definindo CSV tool"
   ]
  },
  {
   "cell_type": "code",
   "execution_count": 11,
   "id": "c7c47399",
   "metadata": {},
   "outputs": [
    {
     "name": "stderr",
     "output_type": "stream",
     "text": [
      "/tmp/ipykernel_969901/2756060632.py:17: PydanticDeprecatedSince20: `pydantic.config.Extra` is deprecated, use literal values instead (e.g. `extra='allow'`). Deprecated in Pydantic V2.0 to be removed in V3.0. See Pydantic V2 Migration Guide at https://errors.pydantic.dev/2.10/migration/\n",
      "  extra = Extra.allow\n"
     ]
    }
   ],
   "source": [
    "from typing import Optional\n",
    "from langchain_core.tools import BaseTool\n",
    "from langchain_core.tools.base import ArgsSchema\n",
    "from pydantic import BaseModel, Field, Extra\n",
    "\n",
    "from langchain.schema import Document\n",
    "\n",
    "class GetCSVInput(BaseModel):\n",
    "    phrase: str = Field(description=\"Question to ask about structured CSV project data\")\n",
    "\n",
    "class GetCSVTool(BaseTool):\n",
    "    name: str = \"get_csv\"\n",
    "    description: str = \"Search for information in vectorized CSV project data\"\n",
    "    args_schema: Optional[ArgsSchema] = GetCSVInput\n",
    "\n",
    "    class Config:\n",
    "        extra = Extra.allow\n",
    "\n",
    "    def __init__(self, vectorstore, model):\n",
    "        super().__init__()\n",
    "        self.vectorstore = vectorstore\n",
    "        self.model = model\n",
    "\n",
    "    def _run(self, phrase: Optional[str] = None) -> str:\n",
    "        retrieved_docs = self.vectorstore.similarity_search(phrase, k=3)\n",
    "        context = \"\\n\".join(doc.page_content for doc in retrieved_docs)\n",
    "\n",
    "        prompt = shared_prompt_template.format(phrase=phrase, context=context)\n",
    "        resposta = self.model.invoke(prompt)\n",
    "        return resposta.content.strip()\n"
   ]
  },
  {
   "cell_type": "markdown",
   "id": "445cc1a3",
   "metadata": {},
   "source": [
    "Tool para unificar respostas"
   ]
  },
  {
   "cell_type": "code",
   "execution_count": 12,
   "id": "2c2448ed",
   "metadata": {},
   "outputs": [
    {
     "name": "stderr",
     "output_type": "stream",
     "text": [
      "/tmp/ipykernel_969901/4007489383.py:15: PydanticDeprecatedSince20: `pydantic.config.Extra` is deprecated, use literal values instead (e.g. `extra='allow'`). Deprecated in Pydantic V2.0 to be removed in V3.0. See Pydantic V2 Migration Guide at https://errors.pydantic.dev/2.10/migration/\n",
      "  extra = Extra.allow\n"
     ]
    }
   ],
   "source": [
    "from typing import Optional\n",
    "from langchain_core.tools import BaseTool\n",
    "from langchain_core.tools.base import ArgsSchema\n",
    "from pydantic import BaseModel, Field, Extra\n",
    "\n",
    "class UnifiedInput(BaseModel):\n",
    "    phrase: str = Field(description=\"Question to ask about PDF and CSV documents\")\n",
    "\n",
    "class UnifiedSearchTool(BaseTool):\n",
    "    name: str = \"unified_project_search\"\n",
    "    description: str = \"Unified search for project data in both PDFs and CSVs\"\n",
    "    args_schema: Optional[ArgsSchema] = UnifiedInput\n",
    "\n",
    "    class Config:\n",
    "        extra = Extra.allow\n",
    "\n",
    "    def __init__(self, vectorstore_pdf, vectorstore_csv, model):\n",
    "        super().__init__()\n",
    "        self.vectorstore_pdf = vectorstore_pdf\n",
    "        self.vectorstore_csv = vectorstore_csv\n",
    "        self.model = model\n",
    "\n",
    "    def _run(self, phrase: Optional[str] = None) -> str:\n",
    "        # Buscar documentos similares nos dois vetores\n",
    "        docs_pdf = self.vectorstore_pdf.similarity_search(phrase, k=15)\n",
    "        docs_csv = self.vectorstore_csv.similarity_search(phrase, k=15)\n",
    "\n",
    "        # Junta os textos dos documentos\n",
    "        combined_context = \"\\n\".join(doc.page_content for doc in (docs_pdf + docs_csv))\n",
    "\n",
    "        # Prepara o prompt\n",
    "        prompt = shared_prompt_template.format(phrase=phrase, context=combined_context)\n",
    "\n",
    "        # Gera resposta\n",
    "        resposta = self.model.invoke(prompt)\n",
    "        return resposta.content.strip()\n"
   ]
  },
  {
   "cell_type": "markdown",
   "id": "9904fab9",
   "metadata": {},
   "source": [
    "Executa agente"
   ]
  },
  {
   "cell_type": "code",
   "execution_count": 21,
   "id": "245ad039",
   "metadata": {},
   "outputs": [
    {
     "name": "stdout",
     "output_type": "stream",
     "text": [
      "================================\u001b[1m Human Message \u001b[0m=================================\n",
      "\n",
      "pode me encontrar algum projeto com caixa em aço carbono, com dimensões próximas a 800x800x300?\n",
      "\n",
      "📄 Resultado:\n",
      "O projeto que contém uma caixa em aço carbono com dimensões próximas a 800x800x300mm é o **BR_CS.2214916**, que especifica uma caixa de montagem com dimensões estimadas de **760x760x300mm**. \n",
      "\n",
      "Caso precise de mais detalhes técnicos, posso fornecer a descrição técnica deste projeto.\n",
      "================================\u001b[1m Human Message \u001b[0m=================================\n",
      "\n",
      "pode me descrever o que há nesse projeto?\n",
      "\n",
      "📄 Resultado:\n",
      "O projeto mencionado possui informações relacionadas ao escopo de fornecimento, cronograma de execução e aprovações, assim como aspectos da documentação. Para mais detalhes, recomenda-se consultar as descrições técnicas dos PDFs associados ao projeto. Se precisar de mais informações específicas ou detalhes técnicos, avise-me!\n",
      "================================\u001b[1m Human Message \u001b[0m=================================\n",
      "\n",
      "preciso dos detalhes técnicos deste projeto\n",
      "\n",
      "📄 Resultado:\n",
      "O projeto menciona a utilização de **Sistemas de Automação** e a entrega de documentação técnica elaborada no software **EPLAN**, que inclui esquemas elétricos, pneumáticos, layout, lista de peças e informações básicas para manutenção. \n",
      "\n",
      "Se precisar de mais detalhes, recomendo consultar os arquivos em PDF que contêm as descrições técnicas. Para dúvidas específicas, você pode entrar em contato com os técnicos mencionados, como o Sr. Ítalo Berioni, pelo telefone (11) 5013-1812. \n",
      "\n",
      "Caso busque materiais específicos, por favor, forneça detalhes adicionais.\n",
      "================================\u001b[1m Human Message \u001b[0m=================================\n",
      "\n",
      "quais os materiais que compõem esse projeto?\n",
      "\n",
      "📄 Resultado:\n",
      "O projeto que menciona componentes relacionados ao fornecimento de materiais é o \"RIP-HD-ND-KW- 11-38H 653542-VASS 06\". Esse projeto inclui materiais como:\n",
      "\n",
      "- Cavalete com perfis de alumínio 80x40mm e 40x40mm\n",
      "- Unidade de tratamento de ar da série MS6\n",
      "- Válvula direcional VSVA\n",
      "- Tubo flexível PUN-V0 resistentes a fagulhas de solda\n",
      "- Sensor de pressão PEV na rede pneumática\n",
      "- Sensor de fluxo SFAW na rede hidráulica\n",
      "- Atuador de sucção SAB1563\n",
      "- Válvulas esfera com atuadores de dupla ação\n",
      "- Válvula de balanceamento\n",
      "- Tubulação em latão\n",
      "\n",
      "Caso precise de mais detalhes técnicos, fique à vontade para perguntar.\n",
      "================================\u001b[1m Human Message \u001b[0m=================================\n",
      "\n",
      "preciso dos materiais relacionados ao projeto mencionado anteriormente BR_CS.2214916\n",
      "\n",
      "📄 Resultado:\n",
      "O projeto relacionado ao seu pedido é o **CS.2213919**, que menciona os seguintes materiais:\n",
      "\n",
      "- 60x Caixas de passagem TMX -14 Ex -d com furação superior 1x 1”NPT e furação inferior 2x3/4”\n",
      "- 300m de mangueira PUN-8 na cor preta\n",
      "- 10x Conexões QS-1/4-8\n",
      "- 10x Conexões QS-3/8-8\n",
      "- 10x Niples de redução NPFC-R-G12-G38-FM\n",
      "- 2x Módulos completos adicionais HART para terminal CPX\n",
      "\n",
      "Se precisar de mais detalhes sobre os materiais ou especificações, estou à disposição.\n",
      "================================\u001b[1m Human Message \u001b[0m=================================\n",
      "\n",
      "Me descreva tecnicamente o que há no projeto BR_CS.2214916\n",
      "\n",
      "📄 Resultado:\n",
      "O projeto BR_CS.2214916 é um sistema de comando composto por:\n",
      "\n",
      "- **Caixa de montagem**: Fabricada em aço inox 304, sem visor, com dimensões estimadas de 760x760x300 mm (AxLxP), grau de proteção IP55, acabamento escovado orbital.\n",
      "- **Unidade de tratamento de ar**: Linha MS6, fixada na parede externa.\n",
      "- **Terminal de válvulas**: Modelo VTSA-FB.\n",
      "- **Régua de bornes**: Configurada conforme o terminal.\n",
      "\n",
      "Se precisar de mais detalhes técnicos, é possível explorar as especificações mais profundamente.\n",
      "================================\u001b[1m Human Message \u001b[0m=================================\n",
      "\n",
      "Pode encontrar um projeto contendo MPA?\n",
      "\n",
      "📄 Resultado:\n",
      "Não encontrei informações específicas sobre um projeto contendo MPA nos trechos fornecidos. Caso você tenha informações adicionais ou detalhes específicos sobre o que está procurando, por favor, compartilhe para que eu possa ajudar melhor.\n",
      "================================\u001b[1m Human Message \u001b[0m=================================\n",
      "\n",
      "Algum projeto contendo válvula esfera?\n",
      "\n",
      "📄 Resultado:\n",
      "Os projetos que mencionam válvulas esfera são:\n",
      "\n",
      "1. **Válvula Esfera Tripartida 2”**\n",
      "   - CS.2224993\n",
      "\n",
      "2. **Válvula Esfera Tripartida 1”**\n",
      "   - CS.2224991\n",
      "\n",
      "3. **Válvula Esfera Bipartida 3”**\n",
      "   - CS.2223987\n",
      "\n",
      "4. **Válvula Esfera 2” bipartida, 2-vias**\n",
      "   - CS.2224992\n",
      "\n",
      "Todos esses projetos apresentam detalhes técnicos sobre as respectivas válvulas esfera. Se precisar de mais informações sobre algum deles, posso fornecer descrições técnicas.\n",
      "================================\u001b[1m Human Message \u001b[0m=================================\n",
      "\n",
      "qual a descrição técnica completa do projeto CS.2224993?\n",
      "\n",
      "📄 Resultado:\n",
      "O projeto correspondente ao número CS.2224993, relacionado a um sistema de controle eletropneumático, descreve o fornecimento de um painel eletropneumático que inclui controle remoto para DFPI e unidades de tratamento de ar. A proposta não inclui montagem, instalação ou documentação técnica como databook e certificados.\n",
      "\n",
      "Caso precise de mais detalhes, posso fornecer a descrição técnica completa ou outros aspectos específicos do projeto.\n",
      "================================\u001b[1m Human Message \u001b[0m=================================\n",
      "\n",
      "me forneça a descrição técnica completa por favor\n",
      "\n",
      "📄 Resultado:\n",
      "A proposta técnica mais relevante é a \"Proposta Técnica BR_CS.2221864\". \n",
      "\n",
      "Os componentes mencionados e que podem ser de interesse técnico incluem:\n",
      "\n",
      "- Acessórios elétricos (cabos, prensa cabos, disjuntor dipolar 2A, sinaleiro e chave geral).\n",
      "- Fonte Weidmueller PRO ECO 24V 3A.\n",
      "- Régua de bornes compatível com o painel ofertado.\n",
      "\n",
      "Se precisar de mais detalhes técnicos, entre em contato com nossa equipe de técnicos especializados na área de Sistemas de Automação.\n",
      "================================\u001b[1m Human Message \u001b[0m=================================\n",
      "\n",
      "quais são os materiais Festo dessa solução?\n",
      "\n",
      "📄 Resultado:\n",
      "Os materiais Festo mencionados na solução incluem:\n",
      "\n",
      "1. 2 metros de mangueira PUN-H de 16mm.\n",
      "2. 2x Válvula de retenção H-3/4-B.\n",
      "3. 4 metros de mangueira PUN-H de 10mm.\n",
      "4. 01, 5/2 vias simples solenoide, vazão de 1.000 L/min, bobina 24 VDC com cabo conector com LED.\n",
      "5. 2x Gerador de vácuo VAD-1/4.\n",
      "6. 1x Sensor de pressão de 0 ... -1 bar.\n",
      "7. Mangueiras internas série PUN-H (PU) – Resistente a hidrólise.\n",
      "8. Conexões interna ao painel série QS.\n",
      "9. Válvula 5/2 vias monoestável, ISO 1 com vazão de 1300 l/min.\n",
      "\n",
      "Possíveis projetos relacionados:\n",
      "- Proposta Técnica BR_CS.2187509\n",
      "- Proposta Técnica BR_CS.2211823 \n",
      "\n",
      "Se precisar de mais detalhes, por favor, solicite informações específicas.\n",
      "================================\u001b[1m Human Message \u001b[0m=================================\n",
      "\n",
      "quais são os materiais Festo contidos no projeto BR_CS.2221864?\n",
      "\n",
      "📄 Resultado:\n",
      "O projeto que contém os materiais Festo relacionados é o **BR_CS.2213919**. Este projeto menciona \"Spare parts\" que pode incluir os materiais desejados.\n",
      "\n",
      "Se precisar de mais informações ou detalhes sobre os componentes, especialmente as descrições técnicas, fique à vontade para solicitar.\n",
      "================================\u001b[1m Human Message \u001b[0m=================================\n",
      "\n",
      "me informe a relação de materiais do projeto CS.2221864\n",
      "\n",
      "📄 Resultado:\n",
      "O projeto mais relevante relacionado à sua solicitação é o **BR_CS.2221864**, que não possui uma lista específica de materiais mencionada nos trechos, mas a documentação de projeto é fornecida no padrão da FESTO, contendo esquemas elétricos, pneumáticos, lay-out, lista de peças e informações básicas para manutenção. \n",
      "\n",
      "Se precisar de mais detalhes ou informações específicas sobre componentes, por favor, indique.\n",
      "================================\u001b[1m Human Message \u001b[0m=================================\n",
      "\n",
      "qual a descrição técnica do projeto BR_CS.2221864?\n",
      "\n",
      "📄 Resultado:\n",
      "A descrição técnica do projeto BR_CS.2221864 não foi encontrada. No entanto, projetos relevantes que podem ser de interesse incluem:\n",
      "\n",
      "1. **BR_CS.2212094** - Fornecimento de painel eletropneumático para zona segura com remotas de controle para DFPI e unidades de tratamento de ar.\n",
      "2. **BR_CS.2212096** - Fornecimento de painel de comando pré-programado com controle e skid com válvulas esfera.\n",
      "3. **BR_CS.2211190** - Contém informações sobre um painel Remota.\n",
      "\n",
      "Se precisar de mais detalhes sobre esses projetos, estou à disposição.\n",
      "================================\u001b[1m Human Message \u001b[0m=================================\n",
      "\n",
      "Qual uma descrição padrão para painel de comando?\n",
      "\n",
      "📄 Resultado:\n",
      "O projeto mais relevante para a descrição de painel de comando é o CS.2211190, que consiste em um painel de controle dos DFPI’s, fabricado em chapa de aço inox 304, com dimensões 1000x1200x300mm e grau de proteção IP65. \n",
      "\n",
      "Caso precise de mais detalhes, aqui está uma descrição técnica adicional do painel de comando:\n",
      "\n",
      "- Caixa de montagem em chapa inox 304 sem visor, proteção em policarbonato para botoeiras.\n",
      "- Componente remoto Festo CPX montado interna ao painel, capaz de controlar 32 DFPI’s.\n",
      "- Inclui nó de rede Ethernet/IP, conectores para RJ45, módulos com protocolo HART e fonte de alimentação 220-110 Vac/24 Vcc.\n",
      "\n",
      "Se precisar de mais informações ou detalhes específicos, estou à disposição.\n",
      "================================\u001b[1m Human Message \u001b[0m=================================\n",
      "\n",
      "detalhe especificamente o projeto CS.2211190\n",
      "\n",
      "📄 Resultado:\n",
      "O projeto correspondente ao número **CS.2211190** inclui o fornecimento de 2 painéis remotos (Remota 1/2). Se precisar de mais detalhes técnicos sobre este projeto, por favor, informe.\n",
      "================================\u001b[1m Human Message \u001b[0m=================================\n",
      "\n",
      "preciso de mais detalhes sobre esse projeto\n",
      "\n",
      "📄 Resultado:\n",
      "Para o seu pedido de mais detalhes sobre o projeto, é relevante mencionar os seguintes projetos:\n",
      "\n",
      "1. **BR_CS.2226937**\n",
      "2. **BR_CS.2226035**\n",
      "3. **BR_CS.2225436**\n",
      "\n",
      "Esses projetos envolvem a aprovação e avaliação, com ênfase em circuitos elétricos, pneumáticos e layout, e todas as dimensões indicadas neles são estimadas. Para mais detalhes, você pode entrar em contato com nossa equipe de técnicos especializados.\n",
      "================================\u001b[1m Human Message \u001b[0m=================================\n",
      "\n",
      "digo, sobre o projeto que comentei antes com painel de comando para DFPI\n",
      "\n",
      "📄 Resultado:\n",
      "O projeto mais relevante para o painel de comando para DFPI é o **CS.2211190**, que especifica o painel de controle dos DFPI’s. Este painel é composto por:\n",
      "\n",
      "- Caixa de montagem em aço inox 304, dimensões 1000x1200x300mm e proteção IP65.\n",
      "- Um sistema capaz de controlar até 32 DFPI’s, utilizando módulos HART.\n",
      "- Fonte de alimentação de 220-110 Vac/24 Vcc e outros componentes elétricos.\n",
      "\n",
      "Outro projeto relevante é o **CS.2211756**, que menciona um painel de comando com terminal de válvulas e é útil em aplicações semelhantes. \n",
      "\n",
      "Se você precisar de mais detalhes sobre qualquer um desses projetos, sinta-se à vontade para solicitar.\n"
     ]
    }
   ],
   "source": [
    "from langchain_core.messages import HumanMessage\n",
    "import time\n",
    "\n",
    "# Inicializa a ferramenta unificada\n",
    "unified_tool = UnifiedSearchTool(\n",
    "    vectorstore_pdf=vector_store_pdf,\n",
    "    vectorstore_csv=vector_store_csv,\n",
    "    model=model\n",
    ")\n",
    "\n",
    "# Loop de execução\n",
    "while True:\n",
    "    user_input = input(\"Você: \")\n",
    "    if user_input.lower() == \"exit\":\n",
    "        break\n",
    "\n",
    "    message = HumanMessage(content=user_input)\n",
    "    message.pretty_print()\n",
    "    config = {\"configurable\": {\"thread_id\": \"abc123\"}}\n",
    "    result = unified_tool.invoke({\"phrase\": user_input}, config)\n",
    "    print(\"\\n📄 Resultado:\")\n",
    "    print(result)\n",
    "    time.sleep(1)\n"
   ]
  }
 ],
 "metadata": {
  "kernelspec": {
   "display_name": "Python 3 (ipykernel)",
   "language": "python",
   "name": "python3"
  },
  "language_info": {
   "codemirror_mode": {
    "name": "ipython",
    "version": 3
   },
   "file_extension": ".py",
   "mimetype": "text/x-python",
   "name": "python",
   "nbconvert_exporter": "python",
   "pygments_lexer": "ipython3",
   "version": "3.12.6"
  }
 },
 "nbformat": 4,
 "nbformat_minor": 5
}
